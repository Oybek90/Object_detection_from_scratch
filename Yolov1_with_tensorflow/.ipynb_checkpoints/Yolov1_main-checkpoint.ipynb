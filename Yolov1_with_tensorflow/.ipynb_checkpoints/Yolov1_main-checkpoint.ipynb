{
 "cells": [
  {
   "cell_type": "code",
   "execution_count": 2,
   "id": "cb99a66f",
   "metadata": {},
   "outputs": [],
   "source": [
    "import numpy as np\n",
    "import tensorflow as tf\n",
    "import matplotlib.pyplot as plt\n",
    "%matplotlib inline\n",
    "import cv2"
   ]
  },
  {
   "cell_type": "code",
   "execution_count": 1,
   "id": "5483220b",
   "metadata": {},
   "outputs": [],
   "source": [
    "# !wget http://host.robots.ox.ac.uk/pascal/VOC/voc2007/VOCtrainval_06-Nov-2007.tar\n",
    "# !wget http://host.robots.ox.ac.uk/pascal/VOC/voc2007/VOCtest_06-Nov-2007.tar\n",
    "\n",
    "# !tar xvf VOCtrainval_06-Nov-2007.tar\n",
    "# !tar xvf VOCtest_06-Nov-2007.tar\n",
    "\n",
    "# !rm VOCtrainval_06-Nov-2007.tar\n",
    "# !rm VOCtest_06-Nov-2007.tar"
   ]
  },
  {
   "cell_type": "code",
   "execution_count": 2,
   "id": "a74a029b",
   "metadata": {},
   "outputs": [],
   "source": [
    "import argparse\n",
    "import xml.etree.ElementTree as ET\n",
    "import os\n",
    "\n",
    "parser = argparse.ArgumentParser(description='Build Annotations.')\n",
    "parser.add_argument('dir', default='..', help='Annotations.')\n",
    "\n",
    "sets = [('2007', 'train'), ('2007', 'val'), ('2007', 'test')]\n",
    "\n",
    "classes_num = {'aeroplane': 0, 'bicycle': 1, 'bird': 2, 'boat': 3, 'bottle': 4, 'bus': 5,\n",
    "               'car': 6, 'cat': 7, 'chair': 8, 'cow': 9, 'diningtable': 10, 'dog': 11,\n",
    "               'horse': 12, 'motorbike': 13, 'person': 14, 'pottedplant': 15, 'sheep': 16,\n",
    "               'sofa': 17, 'train': 18, 'tvmonitor': 19}\n",
    "\n",
    "\n",
    "def convert_annotation(year, image_id, f):\n",
    "    in_file = os.path.join('VOCdevkit/VOC%s/Annotations/%s.xml' % (year, image_id))\n",
    "    tree = ET.parse(in_file)\n",
    "    root = tree.getroot()\n",
    "\n",
    "    for obj in root.iter('object'):\n",
    "        difficult = obj.find('difficult').text\n",
    "        cls = obj.find('name').text\n",
    "        classes = list(classes_num.keys())\n",
    "        if cls not in classes or int(difficult) == 1:\n",
    "            continue\n",
    "        cls_id = classes.index(cls)\n",
    "        xmlbox = obj.find('bndbox')\n",
    "        b = (int(xmlbox.find('xmin').text), int(xmlbox.find('ymin').text),\n",
    "             int(xmlbox.find('xmax').text), int(xmlbox.find('ymax').text))\n",
    "        f.write(' ' + ','.join([str(a) for a in b]) + ',' + str(cls_id))"
   ]
  },
  {
   "cell_type": "code",
   "execution_count": null,
   "id": "d022ab1b",
   "metadata": {},
   "outputs": [],
   "source": [
    "for year, image_set in sets:\n",
    "    print(year, image_set)\n",
    "    with open(os.path.join('VOCdevkit/VOC%s/ImageSets/Main/%s.txt' % (year, image_set)), 'r') as f:\n",
    "        image_ids = f.read().strip().split()\n",
    "    with open(os.path.join(\"VOCdevkit\", '%s_%s.txt' % (year, image_set)), 'w') as f:\n",
    "        for image_id in image_ids:\n",
    "            f.write('%s/VOC%s/JPEGImages/%s.jpg' % (\"VOCdevkit\", year, image_id))\n",
    "            convert_annotation(year, image_id, f)\n",
    "            f.write('\\n')"
   ]
  },
  {
   "cell_type": "code",
   "execution_count": null,
   "id": "1d1a9c2f",
   "metadata": {},
   "outputs": [],
   "source": [
    "def read(image_path, label):\n",
    "    image = cv.imread(image_path)\n",
    "    image = cv.cvtColor(image, cv.COLOR_BGR2RGB)\n",
    "    image_h, image_w = image.shape[0:2]\n",
    "    image = cv.resize(image, (448, 448))\n",
    "    image = image / 255.\n",
    "\n",
    "    label_matrix = np.zeros([7, 7, 30])\n",
    "    for l in label:\n",
    "        l = l.split(',')\n",
    "        l = np.array(l, dtype=np.int)\n",
    "        xmin = l[0]\n",
    "        ymin = l[1]\n",
    "        xmax = l[2]\n",
    "        ymax = l[3]\n",
    "        cls = l[4]\n",
    "        x = (xmin + xmax) / 2 / image_w\n",
    "        y = (ymin + ymax) / 2 / image_h\n",
    "        w = (xmax - xmin) / image_w\n",
    "        h = (ymax - ymin) / image_h\n",
    "        loc = [7 * x, 7 * y]\n",
    "        loc_i = int(loc[1])\n",
    "        loc_j = int(loc[0])\n",
    "        y = loc[1] - loc_i\n",
    "        x = loc[0] - loc_j\n",
    "\n",
    "        if label_matrix[loc_i, loc_j, 24] == 0:\n",
    "            label_matrix[loc_i, loc_j, cls] = 1\n",
    "            label_matrix[loc_i, loc_j, 20:24] = [x, y, w, h]\n",
    "            label_matrix[loc_i, loc_j, 24] = 1  # response\n",
    "\n",
    "    return image, label_matrix"
   ]
  },
  {
   "cell_type": "code",
   "execution_count": null,
   "id": "d0c8aea1",
   "metadata": {},
   "outputs": [],
   "source": []
  },
  {
   "cell_type": "code",
   "execution_count": null,
   "id": "8edb83a2",
   "metadata": {},
   "outputs": [],
   "source": []
  },
  {
   "cell_type": "code",
   "execution_count": null,
   "id": "8a118158",
   "metadata": {},
   "outputs": [],
   "source": []
  },
  {
   "cell_type": "code",
   "execution_count": null,
   "id": "39540eae",
   "metadata": {},
   "outputs": [],
   "source": []
  }
 ],
 "metadata": {
  "kernelspec": {
   "display_name": "Python 3 (ipykernel)",
   "language": "python",
   "name": "python3"
  },
  "language_info": {
   "codemirror_mode": {
    "name": "ipython",
    "version": 3
   },
   "file_extension": ".py",
   "mimetype": "text/x-python",
   "name": "python",
   "nbconvert_exporter": "python",
   "pygments_lexer": "ipython3",
   "version": "3.10.12"
  }
 },
 "nbformat": 4,
 "nbformat_minor": 5
}
